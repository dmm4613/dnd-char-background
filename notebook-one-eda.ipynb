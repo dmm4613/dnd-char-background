{
 "cells": [
  {
   "cell_type": "code",
   "execution_count": 1,
   "metadata": {},
   "outputs": [],
   "source": [
    "import numpy as np\n",
    "import pandas as pd\n",
    "import matplotlib.pyplot as plt\n",
    "import seaborn as sns\n",
    "\n",
    "import re"
   ]
  },
  {
   "cell_type": "code",
   "execution_count": 2,
   "metadata": {},
   "outputs": [],
   "source": [
    "from sklearn.model_selection import train_test_split\n",
    "from sklearn.feature_extraction.text import TfidfVectorizer\n",
    "from sklearn.pipeline import make_pipeline\n",
    "from sklearn.cluster import KMeans\n",
    "from sklearn.linear_model import LogisticRegression\n",
    "from sklearn.ensemble import RandomForestClassifier, GradientBoostingClassifier\n",
    "from sklearn.naive_bayes import MultinomialNB\n",
    "from sklearn.svm import LinearSVC\n",
    "from sklearn.neighbors import KNeighborsClassifier\n",
    "import xgboost as xgb\n",
    "\n",
    "from sklearn.metrics import accuracy_score, classification_report, silhouette_score"
   ]
  },
  {
   "cell_type": "code",
   "execution_count": 3,
   "metadata": {},
   "outputs": [],
   "source": [
    "import tensorflow as tf\n",
    "from tensorflow.keras.preprocessing.text import Tokenizer\n",
    "from tensorflow.keras.preprocessing.sequence import pad_sequences\n",
    "from sklearn.model_selection import train_test_split"
   ]
  },
  {
   "cell_type": "code",
   "execution_count": 4,
   "metadata": {},
   "outputs": [
    {
     "name": "stdout",
     "output_type": "stream",
     "text": [
      "<class 'pandas.core.frame.DataFrame'>\n",
      "RangeIndex: 3447 entries, 0 to 3446\n",
      "Data columns (total 5 columns):\n",
      " #   Column               Non-Null Count  Dtype \n",
      "---  ------               --------------  ----- \n",
      " 0   timestamp            2447 non-null   object\n",
      " 1   character_name       3447 non-null   object\n",
      " 2   character_species    3447 non-null   object\n",
      " 3   character_class      3447 non-null   object\n",
      " 4   character_backstory  3343 non-null   object\n",
      "dtypes: object(5)\n",
      "memory usage: 134.8+ KB\n"
     ]
    }
   ],
   "source": [
    "char_df = pd.read_csv('data/dd_bios_02.csv', encoding='ISO-8859-1')\n",
    "\n",
    "char_df.info()"
   ]
  },
  {
   "cell_type": "code",
   "execution_count": 5,
   "metadata": {},
   "outputs": [],
   "source": [
    "char_df = char_df.drop(columns=['timestamp'])\n"
   ]
  },
  {
   "cell_type": "code",
   "execution_count": 6,
   "metadata": {},
   "outputs": [
    {
     "data": {
      "text/html": [
       "<div>\n",
       "<style scoped>\n",
       "    .dataframe tbody tr th:only-of-type {\n",
       "        vertical-align: middle;\n",
       "    }\n",
       "\n",
       "    .dataframe tbody tr th {\n",
       "        vertical-align: top;\n",
       "    }\n",
       "\n",
       "    .dataframe thead th {\n",
       "        text-align: right;\n",
       "    }\n",
       "</style>\n",
       "<table border=\"1\" class=\"dataframe\">\n",
       "  <thead>\n",
       "    <tr style=\"text-align: right;\">\n",
       "      <th></th>\n",
       "      <th>character_name</th>\n",
       "      <th>character_species</th>\n",
       "      <th>character_class</th>\n",
       "      <th>character_backstory</th>\n",
       "    </tr>\n",
       "  </thead>\n",
       "  <tbody>\n",
       "    <tr>\n",
       "      <th>0</th>\n",
       "      <td>Erryt</td>\n",
       "      <td>Aarakocra</td>\n",
       "      <td>Ranger</td>\n",
       "      <td>Erryt, a 7 year-old Aarakocra with golden plum...</td>\n",
       "    </tr>\n",
       "    <tr>\n",
       "      <th>1</th>\n",
       "      <td>Katyusha</td>\n",
       "      <td>Aarakocra</td>\n",
       "      <td>Cleric</td>\n",
       "      <td>Real name Erryt\\n\\nLives in fantasy Soviet Uni...</td>\n",
       "    </tr>\n",
       "    <tr>\n",
       "      <th>2</th>\n",
       "      <td>Surkiikri</td>\n",
       "      <td>Aarakocra</td>\n",
       "      <td>Monk</td>\n",
       "      <td>Surkiikri was firstborn of the ruling family o...</td>\n",
       "    </tr>\n",
       "    <tr>\n",
       "      <th>3</th>\n",
       "      <td>Azriel</td>\n",
       "      <td>Aasamar</td>\n",
       "      <td>Paladin</td>\n",
       "      <td>He was raised the isles in a family of nobles ...</td>\n",
       "    </tr>\n",
       "    <tr>\n",
       "      <th>4</th>\n",
       "      <td>Azophyr</td>\n",
       "      <td>Aasimar</td>\n",
       "      <td>Paladin</td>\n",
       "      <td>Hi... I'm Azophyr. I'm a fallen aasimar devoti...</td>\n",
       "    </tr>\n",
       "  </tbody>\n",
       "</table>\n",
       "</div>"
      ],
      "text/plain": [
       "  character_name character_species character_class  \\\n",
       "0          Erryt         Aarakocra          Ranger   \n",
       "1       Katyusha         Aarakocra          Cleric   \n",
       "2      Surkiikri         Aarakocra            Monk   \n",
       "3         Azriel           Aasamar         Paladin   \n",
       "4        Azophyr           Aasimar         Paladin   \n",
       "\n",
       "                                 character_backstory  \n",
       "0  Erryt, a 7 year-old Aarakocra with golden plum...  \n",
       "1  Real name Erryt\\n\\nLives in fantasy Soviet Uni...  \n",
       "2  Surkiikri was firstborn of the ruling family o...  \n",
       "3  He was raised the isles in a family of nobles ...  \n",
       "4  Hi... I'm Azophyr. I'm a fallen aasimar devoti...  "
      ]
     },
     "execution_count": 6,
     "metadata": {},
     "output_type": "execute_result"
    }
   ],
   "source": [
    "char_df.head()"
   ]
  },
  {
   "cell_type": "code",
   "execution_count": 7,
   "metadata": {},
   "outputs": [],
   "source": [
    "char_df = char_df.dropna()"
   ]
  },
  {
   "cell_type": "code",
   "execution_count": 8,
   "metadata": {},
   "outputs": [
    {
     "name": "stdout",
     "output_type": "stream",
     "text": [
      "<class 'pandas.core.frame.DataFrame'>\n",
      "Index: 3343 entries, 0 to 3446\n",
      "Data columns (total 4 columns):\n",
      " #   Column               Non-Null Count  Dtype \n",
      "---  ------               --------------  ----- \n",
      " 0   character_name       3343 non-null   object\n",
      " 1   character_species    3343 non-null   object\n",
      " 2   character_class      3343 non-null   object\n",
      " 3   character_backstory  3343 non-null   object\n",
      "dtypes: object(4)\n",
      "memory usage: 130.6+ KB\n"
     ]
    }
   ],
   "source": [
    "char_df.info()"
   ]
  },
  {
   "cell_type": "code",
   "execution_count": 9,
   "metadata": {},
   "outputs": [
    {
     "data": {
      "text/plain": [
       "array(['Aarakocra', 'Aasamar', 'Aasimar', 'aasimar', 'Alien', 'Android',\n",
       "       'Anthropomorphic Cockroach', 'Aquatic Half-Elf', 'Beeforged',\n",
       "       'Birali (homebrew, sort of like a cat-folk)',\n",
       "       'Birali turned back to Human', 'Birdfolk', 'Blue Dragonborn',\n",
       "       'BugBear', 'Cambion', 'Catfolk', 'Catgirl', 'Celestial',\n",
       "       'Changeling', 'Copper Dragonborn', 'Dark Elf', 'dark elf',\n",
       "       'Dark elf', 'Dark Elf/Human', 'Deep Gnome', 'Demon', 'Dragonborn',\n",
       "       'Drow', 'drow', 'Drow Elf', 'Drow elf', 'Dwarf', 'dwarf',\n",
       "       'Earth Genasi', 'Eladrin', 'Elan', 'Elf', 'elf', 'Elf (Drow)',\n",
       "       'Elf (Wood)', 'Fey Corgi', 'Feyblood', 'Fire genasi',\n",
       "       'Forest gnome', 'Forest Gnome', 'genasi', 'Genasi',\n",
       "       'Ghostwise Halfling', 'Ghoul Medusa', 'Githyanki', 'Gnoll',\n",
       "       'Gnome', 'gnome', 'goblin', 'Goblin', 'Goliath', 'goliath',\n",
       "       'Grey Elf', 'Hafling', 'Half Cat folk/ Half Elf', 'Half drow',\n",
       "       \"Half dwarf, half elf/orc (don't question it)\", 'Half Elf',\n",
       "       'half elf', 'Half elf', 'Half Orc', 'Half orc',\n",
       "       'Half-Dragon Half-elf', 'Half-drow', 'Half-Dwarf / Half-Ogre',\n",
       "       'Half-Elf', 'half-elf', 'Half-elf', 'Half-elf (drow)', 'Half-Orc',\n",
       "       'Half-orc', 'half-orc', 'Half-Orc, Half-Human', 'Half-Ord',\n",
       "       'Half-wyvern, Half-kobold (Wyvaran)', 'halfelf', 'Halfling',\n",
       "       'halfling', 'Helf-Orc', 'Hengeyokai (Rat)', 'High Elf', 'High elf',\n",
       "       'High Elf (moon elf)', 'High Moon Elf', 'Hill Dwarf',\n",
       "       'Homebrew Elf', 'Humam', 'Human', 'human', 'Human (variant)',\n",
       "       'Human Male', 'Human Variant', 'Hungerseed Tiefling', 'Ifrit',\n",
       "       'Kalashtar', 'Karsite', 'Kender', 'Kenku', 'Kitsune', 'Kobold',\n",
       "       'Lich', 'lizardfolk', 'Lizardfolk', 'Luminian (homebrew)',\n",
       "       'Merfolk', 'Minotaur', 'Moon elf (high elf)', 'Mountain Dwarf',\n",
       "       'Nagaji', 'Ogre', 'Orc', 'Pale Oni', 'Penguin', 'Penis',\n",
       "       'Phanaton (gliding lemur person)', 'Phrygisian', 'Pig', 'Pixie',\n",
       "       'Pony', 'Rimelander', 'Rock Gnome', 'Sentient Bucket (Animated)',\n",
       "       'Shadar-kai', 'Shadowborn', 'Siren', 'Skeleton', 'Snow elf',\n",
       "       'Snowborn Human', 'Stout Halfling', 'Stout halfling', 'Tabaxi',\n",
       "       'Tabaxi (Catfolk)', 'Teifling', 'Tengu', 'tengu', 'Tiefling',\n",
       "       'Tortle', 'Triton', 'Two-Headed Elf', 'Undead', 'Ursine',\n",
       "       'Warforged', 'Warforged (robot)', 'Water Genasi', 'Werewolf',\n",
       "       'Wild Elf', 'Wood Elf', 'Wood elf',\n",
       "       'Worm that walks (former human)', 'Yuan Ti', 'Yuan-Ti Abomination',\n",
       "       'Half Silver Dragon', 'mechanical construct',\n",
       "       'Halfling (lightfoot)', 'Human (Variant)',\n",
       "       'Earth Genasi (Elf parents)', 'tiefling', 'Half-dragon', 'Firbolg',\n",
       "       'Lizardman', 'Half-Drow', 'human(s)', 'Post-Human Warrior',\n",
       "       'Halforc', 'Halfelf', 'Half Drow Half Human',\n",
       "       'Was Human Now a Drow', 'Elf (wood+drow)', 'Draconic',\n",
       "       'Pseudodragon', 'Loxodon', 'Dwarf (Hill)', 'Half gnome, half orc',\n",
       "       'Half-Human Half-Giant', 'Duergar', 'Dragonkin', 'Changling',\n",
       "       'Silver Dragonborn', 'Deva', 'Khalashtar',\n",
       "       '1/2 Pig, 1/2 Goblin but looks like a Pig', 'Ratman', 'Small Cat',\n",
       "       'Half Left Elf', 'Black Pudding', 'Half-vampire', 'Were-serpent',\n",
       "       'Imaginary Friend', 'Garbageman', 'forest spirit', 'pixie',\n",
       "       'Sword in a gelatinous cube', 'Deep One', 'Vampire',\n",
       "       'Human-presenting Aasimar', 'Shield Guardian', 'shapeshifter',\n",
       "       'Vengeful Tree Spirit', 'Undine', 'Githzerai',\n",
       "       'Half-orc & half elf', 'fire genasi', 'tabaxi', 'Blood', 'Fae',\n",
       "       'druid', 'Half-High Elf', 'dragonborn', 'Moon elf', 'Halfing',\n",
       "       'sweet elf', 'Thri-Kreen', 'badger', 'Cleansed Blight',\n",
       "       'warforged', 'Ratfolk', 'Undead human', 'Aquatic Elf', 'Deer-Elf',\n",
       "       'Volksdeutsche', 'Aaracokra', 'Half-Dragon', 'Dragonic',\n",
       "       'Mouse-Folk (Homebrew Race)', 'Owlbear', 'Vulcan',\n",
       "       \"Human (pretends he's a High Elf)\", 'half-faerie',\n",
       "       'Halfling/Hobbit', 'Half-Ogre', 'Hadozee', 'Monstorous Humanoid',\n",
       "       'Sand Tribe', 'Frentini (Bear Person)', 'Dragonborn (Black)',\n",
       "       'kitsune', 'Shifter (cliffwalk)', 'Yuan-Ti Pureblood',\n",
       "       'Chimpanzee', 'Ratfolk Vampire', 'Aasimar (Pathfinder)',\n",
       "       'Yuan-ti Pureblood', '1/16 elf, 15/16 human', 'Human Lich',\n",
       "       'Youkai', \"Tiefling (Devil's Tongue)\", 'Feral Hellfire Tiefling',\n",
       "       'kobold', 'Ha;f-Elf', 'Half Arc', 'Avvar', 'Anuboid', 'Salamander',\n",
       "       'triton', 'Bear', 'Monk', 'Air Genasi', 'Woven Person', 'Aarakoca',\n",
       "       'Grung', 'Elf (drow)', 'Rose Knight', 'Catman (Tiger)',\n",
       "       'Dragonborn, blue', 'Mole', 'Dhampir', 'Dragonwrought Kobold',\n",
       "       'forest gnome', 'Half-Human', 'High-Elf', 'half-drow', 'Solar',\n",
       "       'SLIME', 'Elf (high)', 'teifling', 'unicorn', 'mechanatrix',\n",
       "       'demon', 'Chitine', 'Half-Giant', 'Half Tiefling, half human',\n",
       "       'Half-Nymph', 'Triaxian', 'Slothra', 'Vishkanya', 'Grippli',\n",
       "       'Gold elf', 'Half-Kobold', 'Human vampire', 'Mousefolk',\n",
       "       'Wild elf', 'Communist', 'Dark-elf', 'Feyborn', 'Worm-man',\n",
       "       'Rabbit-man', 'Fairy', 'Half dwarf', 'Lightfoot Halfling', 'Slime',\n",
       "       'Pig Kobold', 'Half Elf (Shadar-kai)', 'Quarter-Goblin', 'Nymph',\n",
       "       'Tiefling/Drow', 'Shoebox', 'Cyborg', 'Bronze Dragonborn',\n",
       "       'fey corgi', 'Dward', 'Sea Elf', 'Hobgoblin', 'Sylph',\n",
       "       'Rock gnome', 'Elf woman', 'kalashtar', 'Half Oni', 'Kugutsu',\n",
       "       'Lizard', 'Undead (human)', 'Unicorn', 'Chyb', 'cooking',\n",
       "       'Illithid', 'Wyrwood', 'awakened trash', 'Desert Beeple',\n",
       "       'Demigod', 'wooden', 'Rope Gnome', 'Steam Mephit', 'Salt Genasi',\n",
       "       'Water Mephit', 'crow', 'Shardmind', '826753', '436727',\n",
       "       'Vacuum Genasi', 'Smoke Mephit', 'Pale One', 'Lashunta', 'Kasatha',\n",
       "       'Ysoki', 'Vesk', 'Shirren', '358164', 'Centaur', 'writing',\n",
       "       'Lutra (otterfolk)', 'Gelatinous cube', 'Nezumi', '889656',\n",
       "       '372452', 'swimming', 'Golem', 'Yaun-ti', 'Kanku', 'Aasimiar',\n",
       "       'moon elf', 'Cthonic Amoebae', 'aarakocra', 'Frogfolk',\n",
       "       'Fire Genasi', 'Shadar-Kai', 'Custom Lineage', 'Plasmoid',\n",
       "       'Harengon', 'Bugbear', 'Hexblood', 'Wechselkind', 'Gallus',\n",
       "       'Raptor', 'The Disembodied', 'Thri-kreen', 'Hedge', 'Giff',\n",
       "       'Verdan', 'Simic Hybrid', 'Reborn', 'Autognome', 'Cervan',\n",
       "       'Vedalken', 'Shifter', 'Corvum', 'Owlin', 'Luma', 'Jerbeen',\n",
       "       'Mapach', 'Strig', 'Satyr', 'Leonin', 'Gith', 'Locathah', 'Vulpin'],\n",
       "      dtype=object)"
      ]
     },
     "execution_count": 9,
     "metadata": {},
     "output_type": "execute_result"
    }
   ],
   "source": [
    "char_df.character_species.unique()"
   ]
  },
  {
   "cell_type": "code",
   "execution_count": 10,
   "metadata": {},
   "outputs": [
    {
     "data": {
      "text/plain": [
       "array(['aarakocra', 'aasamar', 'aasimar', 'alien', 'android',\n",
       "       'anthropomorphic cockroach', 'aquatic half-elf', 'beeforged',\n",
       "       'birali (homebrew, sort of like a cat-folk)',\n",
       "       'birali turned back to human', 'birdfolk', 'blue dragonborn',\n",
       "       'bugbear', 'cambion', 'catfolk', 'catgirl', 'celestial',\n",
       "       'changeling', 'copper dragonborn', 'dark elf', 'dark elf/human',\n",
       "       'deep gnome', 'demon', 'dragonborn', 'drow', 'drow elf', 'dwarf',\n",
       "       'earth genasi', 'eladrin', 'elan', 'elf', 'elf (drow)',\n",
       "       'elf (wood)', 'fey corgi', 'feyblood', 'fire genasi',\n",
       "       'forest gnome', 'genasi', 'ghostwise halfling', 'ghoul medusa',\n",
       "       'githyanki', 'gnoll', 'gnome', 'goblin', 'goliath', 'grey elf',\n",
       "       'hafling', 'half cat folk/ half elf', 'half drow',\n",
       "       \"half dwarf, half elf/orc (don't question it)\", 'half elf',\n",
       "       'half orc', 'half-dragon half-elf', 'half-drow',\n",
       "       'half-dwarf / half-ogre', 'half-elf', 'half-elf (drow)',\n",
       "       'half-orc', 'half-orc, half-human', 'half-ord',\n",
       "       'half-wyvern, half-kobold (wyvaran)', 'halfelf', 'halfling',\n",
       "       'helf-orc', 'hengeyokai (rat)', 'high elf', 'high elf (moon elf)',\n",
       "       'high moon elf', 'hill dwarf', 'homebrew elf', 'humam', 'human',\n",
       "       'human (variant)', 'human male', 'human variant',\n",
       "       'hungerseed tiefling', 'ifrit', 'kalashtar', 'karsite', 'kender',\n",
       "       'kenku', 'kitsune', 'kobold', 'lich', 'lizardfolk',\n",
       "       'luminian (homebrew)', 'merfolk', 'minotaur',\n",
       "       'moon elf (high elf)', 'mountain dwarf', 'nagaji', 'ogre', 'orc',\n",
       "       'pale oni', 'penguin', 'penis', 'phanaton (gliding lemur person)',\n",
       "       'phrygisian', 'pig', 'pixie', 'pony', 'rimelander', 'rock gnome',\n",
       "       'sentient bucket (animated)', 'shadar-kai', 'shadowborn', 'siren',\n",
       "       'skeleton', 'snow elf', 'snowborn human', 'stout halfling',\n",
       "       'tabaxi', 'tabaxi (catfolk)', 'teifling', 'tengu', 'tiefling',\n",
       "       'tortle', 'triton', 'two-headed elf', 'undead', 'ursine',\n",
       "       'warforged', 'warforged (robot)', 'water genasi', 'werewolf',\n",
       "       'wild elf', 'wood elf', 'worm that walks (former human)',\n",
       "       'yuan ti', 'yuan-ti abomination', 'half silver dragon',\n",
       "       'mechanical construct', 'halfling (lightfoot)',\n",
       "       'earth genasi (elf parents)', 'half-dragon', 'firbolg',\n",
       "       'lizardman', 'human(s)', 'post-human warrior', 'halforc',\n",
       "       'half drow half human', 'was human now a drow', 'elf (wood+drow)',\n",
       "       'draconic', 'pseudodragon', 'loxodon', 'dwarf (hill)',\n",
       "       'half gnome, half orc', 'half-human half-giant', 'duergar',\n",
       "       'dragonkin', 'changling', 'silver dragonborn', 'deva',\n",
       "       'khalashtar', '1/2 pig, 1/2 goblin but looks like a pig', 'ratman',\n",
       "       'small cat', 'half left elf', 'black pudding', 'half-vampire',\n",
       "       'were-serpent', 'imaginary friend', 'garbageman', 'forest spirit',\n",
       "       'sword in a gelatinous cube', 'deep one', 'vampire',\n",
       "       'human-presenting aasimar', 'shield guardian', 'shapeshifter',\n",
       "       'vengeful tree spirit', 'undine', 'githzerai',\n",
       "       'half-orc & half elf', 'blood', 'fae', 'druid', 'half-high elf',\n",
       "       'moon elf', 'halfing', 'sweet elf', 'thri-kreen', 'badger',\n",
       "       'cleansed blight', 'ratfolk', 'undead human', 'aquatic elf',\n",
       "       'deer-elf', 'volksdeutsche', 'aaracokra', 'dragonic',\n",
       "       'mouse-folk (homebrew race)', 'owlbear', 'vulcan',\n",
       "       \"human (pretends he's a high elf)\", 'half-faerie',\n",
       "       'halfling/hobbit', 'half-ogre', 'hadozee', 'monstorous humanoid',\n",
       "       'sand tribe', 'frentini (bear person)', 'dragonborn (black)',\n",
       "       'shifter (cliffwalk)', 'yuan-ti pureblood', 'chimpanzee',\n",
       "       'ratfolk vampire', 'aasimar (pathfinder)', '1/16 elf, 15/16 human',\n",
       "       'human lich', 'youkai', \"tiefling (devil's tongue)\",\n",
       "       'feral hellfire tiefling', 'ha;f-elf', 'half arc', 'avvar',\n",
       "       'anuboid', 'salamander', 'bear', 'monk', 'air genasi',\n",
       "       'woven person', 'aarakoca', 'grung', 'rose knight',\n",
       "       'catman (tiger)', 'dragonborn, blue', 'mole', 'dhampir',\n",
       "       'dragonwrought kobold', 'half-human', 'high-elf', 'solar', 'slime',\n",
       "       'elf (high)', 'unicorn', 'mechanatrix', 'chitine', 'half-giant',\n",
       "       'half tiefling, half human', 'half-nymph', 'triaxian', 'slothra',\n",
       "       'vishkanya', 'grippli', 'gold elf', 'half-kobold', 'human vampire',\n",
       "       'mousefolk', 'communist', 'dark-elf', 'feyborn', 'worm-man',\n",
       "       'rabbit-man', 'fairy', 'half dwarf', 'lightfoot halfling',\n",
       "       'pig kobold', 'half elf (shadar-kai)', 'quarter-goblin', 'nymph',\n",
       "       'tiefling/drow', 'shoebox', 'cyborg', 'bronze dragonborn', 'dward',\n",
       "       'sea elf', 'hobgoblin', 'sylph', 'elf woman', 'half oni',\n",
       "       'kugutsu', 'lizard', 'undead (human)', 'chyb', 'cooking',\n",
       "       'illithid', 'wyrwood', 'awakened trash', 'desert beeple',\n",
       "       'demigod', 'wooden', 'rope gnome', 'steam mephit', 'salt genasi',\n",
       "       'water mephit', 'crow', 'shardmind', '826753', '436727',\n",
       "       'vacuum genasi', 'smoke mephit', 'pale one', 'lashunta', 'kasatha',\n",
       "       'ysoki', 'vesk', 'shirren', '358164', 'centaur', 'writing',\n",
       "       'lutra (otterfolk)', 'gelatinous cube', 'nezumi', '889656',\n",
       "       '372452', 'swimming', 'golem', 'yaun-ti', 'kanku', 'aasimiar',\n",
       "       'cthonic amoebae', 'frogfolk', 'custom lineage', 'plasmoid',\n",
       "       'harengon', 'hexblood', 'wechselkind', 'gallus', 'raptor',\n",
       "       'the disembodied', 'hedge', 'giff', 'verdan', 'simic hybrid',\n",
       "       'reborn', 'autognome', 'cervan', 'vedalken', 'shifter', 'corvum',\n",
       "       'owlin', 'luma', 'jerbeen', 'mapach', 'strig', 'satyr', 'leonin',\n",
       "       'gith', 'locathah', 'vulpin'], dtype=object)"
      ]
     },
     "execution_count": 10,
     "metadata": {},
     "output_type": "execute_result"
    }
   ],
   "source": [
    "# Convert all values in the 'character_species' and 'character_class' column to lowercase\n",
    "char_df['character_species'] = char_df['character_species'].str.lower()\n",
    "char_df['character_class'] = char_df['character_class'].str.lower()\n",
    "\n",
    "\n",
    "# Verify the change\n",
    "char_df['character_species'].unique()"
   ]
  },
  {
   "cell_type": "code",
   "execution_count": 11,
   "metadata": {},
   "outputs": [],
   "source": [
    "def replace_string_in_column(df, column, old_string, new_string):\n",
    "    \"\"\"\n",
    "    Replaces occurrences of a specific string in a column with a new string.\n",
    "\n",
    "    Parameters:\n",
    "    df (pd.DataFrame): The DataFrame containing the column.\n",
    "    column (str): The column name where the replacement should happen.\n",
    "    old_string (str): The string to search for.\n",
    "    new_string (str): The string to replace the old one with.\n",
    "\n",
    "    Returns:\n",
    "    pd.DataFrame: The DataFrame with the updated column.\n",
    "    \"\"\"\n",
    "    df.loc[df[column].str.contains(old_string, case=False, na=False), column] = new_string\n",
    "    return df"
   ]
  },
  {
   "cell_type": "code",
   "execution_count": 12,
   "metadata": {},
   "outputs": [],
   "source": [
    "# We can clean up some glaring issues. There are still a lot of homebrew species, we will leave them as is. \n",
    "\n",
    "char_df = replace_string_in_column(char_df, 'character_species', 'aasamar', 'aasimar')\n",
    "char_df = replace_string_in_column(char_df, 'character_species', 'half elf', 'half-elf')\n",
    "char_df = replace_string_in_column(char_df, 'character_species', 'half drow', 'half-elf (drow)')\n",
    "char_df = replace_string_in_column(char_df, 'character_species', 'half-drow', 'half-elf (drow)')\n",
    "char_df = replace_string_in_column(char_df, 'character_species', 'half-ord', 'half-orc')\n",
    "char_df = replace_string_in_column(char_df, 'character_species', 'drow', 'elf (drow)')\n",
    "char_df = replace_string_in_column(char_df, 'character_species', 'drow elf', 'elf (drow)')\n",
    "char_df = replace_string_in_column(char_df, 'character_species', 'humam', 'human')\n"
   ]
  },
  {
   "cell_type": "code",
   "execution_count": 13,
   "metadata": {},
   "outputs": [
    {
     "data": {
      "image/png": "[encoded data removed]",
      "text/plain": [
       "<Figure size 1000x600 with 1 Axes>"
      ]
     },
     "metadata": {},
     "output_type": "display_data"
    }
   ],
   "source": [
    "top_20_classes = char_df.character_class.value_counts().head(20)\n",
    "\n",
    "# Create the plot\n",
    "plt.figure(figsize=(10,6))\n",
    "top_20_classes.plot(kind='bar')\n",
    "plt.title('Top 20 Character Classes')\n",
    "plt.xlabel('Character Class')\n",
    "plt.ylabel('Frequency')\n",
    "plt.xticks(rotation=45)  # Rotate x-axis labels for better readability\n",
    "plt.tight_layout()\n",
    "\n",
    "# Show the plot\n",
    "plt.show()"
   ]
  },
  {
   "cell_type": "markdown",
   "metadata": {},
   "source": [
    "This is a solid representation of the 5ed classes available, and a good number of other types of classes that make up this dataset. \n",
    "\n",
    "Let's start cleaning up the rest of the text to get ready for tokenization"
   ]
  },
  {
   "cell_type": "code",
   "execution_count": 14,
   "metadata": {},
   "outputs": [],
   "source": [
    "# Function to remove non-letter characters\n",
    "def clean_text(text):\n",
    "    return re.sub(r'[^a-zA-Z\\s]', '', text)\n",
    "\n",
    "# Apply the cleaning function to columns\n",
    "char_df['character_species'] = char_df['character_species'].apply(clean_text)\n",
    "char_df['character_name'] = char_df['character_name'].apply(clean_text)\n"
   ]
  },
  {
   "cell_type": "code",
   "execution_count": 15,
   "metadata": {},
   "outputs": [],
   "source": [
    "# !pip install nltk"
   ]
  },
  {
   "cell_type": "code",
   "execution_count": 16,
   "metadata": {},
   "outputs": [
    {
     "name": "stderr",
     "output_type": "stream",
     "text": [
      "[nltk_data] Downloading package stopwords to\n",
      "[nltk_data]     C:\\Users\\dmm46\\AppData\\Roaming\\nltk_data...\n",
      "[nltk_data]   Package stopwords is already up-to-date!\n",
      "[nltk_data] Downloading package wordnet to\n",
      "[nltk_data]     C:\\Users\\dmm46\\AppData\\Roaming\\nltk_data...\n",
      "[nltk_data]   Package wordnet is already up-to-date!\n"
     ]
    },
    {
     "data": {
      "text/plain": [
       "True"
      ]
     },
     "execution_count": 16,
     "metadata": {},
     "output_type": "execute_result"
    }
   ],
   "source": [
    "from nltk.corpus import stopwords\n",
    "from nltk.stem import WordNetLemmatizer\n",
    "\n",
    "# Make sure you have stopwords and lemmatizer from NLTK\n",
    "import nltk\n",
    "nltk.download('stopwords')\n",
    "nltk.download('wordnet')"
   ]
  },
  {
   "cell_type": "code",
   "execution_count": 17,
   "metadata": {},
   "outputs": [],
   "source": [
    "stop_words = set(stopwords.words('english'))\n",
    "lemmatizer = WordNetLemmatizer()\n",
    "\n",
    "def preprocess_text(text):\n",
    "    # Lowercase\n",
    "    text = text.lower()\n",
    "    # Remove non-alphabet characters\n",
    "    text = re.sub(r'[^a-z\\s]', '', text)\n",
    "    # Tokenize and remove stopwords\n",
    "    words = text.split()\n",
    "    words = [lemmatizer.lemmatize(word) for word in words if word not in stop_words]\n",
    "    return ' '.join(words)\n",
    "\n",
    "# Apply preprocessing to the backstories\n",
    "char_df['cleaned_backstory'] = char_df['character_backstory'].apply(preprocess_text)"
   ]
  },
  {
   "cell_type": "code",
   "execution_count": 18,
   "metadata": {},
   "outputs": [],
   "source": [
    "# Use TF-IDF to vectorize the cleaned backstories\n",
    "vectorizer = TfidfVectorizer(max_df=0.95, min_df=2, stop_words='english')\n",
    "X = vectorizer.fit_transform(char_df['cleaned_backstory'])"
   ]
  },
  {
   "cell_type": "code",
   "execution_count": 19,
   "metadata": {},
   "outputs": [
    {
     "data": {
      "image/png": "[encoded data removed]",
      "text/plain": [
       "<Figure size 640x480 with 1 Axes>"
      ]
     },
     "metadata": {},
     "output_type": "display_data"
    }
   ],
   "source": [
    "# Find the optimal number of clusters using the Elbow Method\n",
    "inertia = []\n",
    "for k in range(1, 15):\n",
    "    kmeans = KMeans(n_clusters=k, random_state=42)\n",
    "    kmeans.fit(X)\n",
    "    inertia.append(kmeans.inertia_)\n",
    "\n",
    "# Plot the Elbow graph\n",
    "plt.plot(range(1, 15), inertia, marker='o')\n",
    "plt.xlabel('Number of Clusters')\n",
    "plt.ylabel('Inertia')\n",
    "plt.title('Elbow Method for Optimal Clusters')\n",
    "plt.show()"
   ]
  },
  {
   "cell_type": "markdown",
   "metadata": {},
   "source": [
    "In this plot, look for the \"elbow\" point where the inertia starts to flatten out. This suggests the optimal number of clusters."
   ]
  },
  {
   "cell_type": "code",
   "execution_count": 20,
   "metadata": {},
   "outputs": [
    {
     "data": {
      "image/png": "[encoded data removed]",
      "text/plain": [
       "<Figure size 640x480 with 1 Axes>"
      ]
     },
     "metadata": {},
     "output_type": "display_data"
    }
   ],
   "source": [
    "# Evaluate the Silhouette Score for different numbers of clusters\n",
    "silhouette_scores = []\n",
    "for k in range(2, 15):\n",
    "    kmeans = KMeans(n_clusters=k, random_state=42)\n",
    "    labels = kmeans.fit_predict(X)\n",
    "    silhouette_scores.append(silhouette_score(X, labels))\n",
    "\n",
    "# Plot the Silhouette Score\n",
    "plt.plot(range(2, 15), silhouette_scores, marker='o')\n",
    "plt.xlabel('Number of Clusters')\n",
    "plt.ylabel('Silhouette Score')\n",
    "plt.title('Silhouette Score for Optimal Clusters')\n",
    "plt.show()"
   ]
  },
  {
   "cell_type": "markdown",
   "metadata": {},
   "source": [
    "Choose the number of clusters that yields the highest silhouette score."
   ]
  },
  {
   "cell_type": "code",
   "execution_count": 21,
   "metadata": {},
   "outputs": [
    {
     "name": "stdout",
     "output_type": "stream",
     "text": [
      "\n",
      "Cluster 0 examples:\n",
      "18     Pirates usually left Illithrian's small fishin...\n",
      "69     Danger was the sole survivor of a pirate raid ...\n",
      "72     I spent my early days in a Dragonborn Clan alo...\n",
      "89     Chakos was born in a major city in the Underda...\n",
      "102    Captain Blackfist was a captain of a mighty ve...\n",
      "Name: character_backstory, dtype: object\n",
      "\n",
      "Cluster 1 examples:\n",
      "2453    Azazel Shadowdancer is a Tiefling Monk, known ...\n",
      "2457    Bryn Ravenclaw is a Aasimar Bard, known for th...\n",
      "2459    Cora Thorne is a Wechselkind Fighter, known fo...\n",
      "2460    Elara Darkwood is a Elf Ranger, known for thei...\n",
      "2461    Ithariel is a Gallus Monk, known for their unm...\n",
      "Name: character_backstory, dtype: object\n",
      "\n",
      "Cluster 2 examples:\n",
      "2448    Seren, a shadow among shadows, learned the art...\n",
      "2449    Cora, once a humble protector of the weak, now...\n",
      "2450    Bryn Doomhammer, once a humble protector of th...\n",
      "2452    Cora Stonegale, a shadow among shadows, learne...\n",
      "2455    Jarin Thorne, a shadow among shadows, learned ...\n",
      "Name: character_backstory, dtype: object\n",
      "\n",
      "Cluster 3 examples:\n",
      "2447    In the ancient forests of Elderwood, Frodo was...\n",
      "2456    In the ancient forests of Elderwood, Tinker wa...\n",
      "2490    In the ancient forests of Whispering Pines, Br...\n",
      "2500    In the ancient forests of Whispering Pines, Co...\n",
      "2509    In the ancient forests of Whispering Pines, Ba...\n",
      "Name: character_backstory, dtype: object\n",
      "\n",
      "Cluster 4 examples:\n",
      "2     Surkiikri was firstborn of the ruling family o...\n",
      "3     He was raised the isles in a family of nobles ...\n",
      "7     Aldea was born in a kingdom where magic was ev...\n",
      "9     She was born to a pure blooded Aasimar family,...\n",
      "34    a seasoned criminal raised in a crime family, ...\n",
      "Name: character_backstory, dtype: object\n",
      "\n",
      "Cluster 5 examples:\n",
      "2451    Seren Lightweaver never intended to make a pac...\n",
      "2454    Bryn Ravenclaw never intended to make a pact w...\n",
      "2458    Bryn never intended to make a pact with forces...\n",
      "2468    Drake Brightflame never intended to make a pac...\n",
      "2472    Aelric Darkwood Stormhand never intended to ma...\n",
      "Name: character_backstory, dtype: object\n",
      "\n",
      "Cluster 6 examples:\n",
      "0    Erryt, a 7 year-old Aarakocra with golden plum...\n",
      "1    Real name Erryt\\n\\nLives in fantasy Soviet Uni...\n",
      "4    Hi... I'm Azophyr. I'm a fallen aasimar devoti...\n",
      "5    Was found on the steps of a temple to Heironeo...\n",
      "6    Ambriel, the haunted one, is on a quest to van...\n",
      "Name: character_backstory, dtype: object\n",
      "\n",
      "Cluster 7 examples:\n",
      "8     At a young age, Mevralen's mother, Althaea, no...\n",
      "10    Backstory\\n\\nAbaewin Toredas lives a hard life...\n",
      "11    Jas grew up in the city of Vier as the daughte...\n",
      "12    One night Nissanai, an Iroran hermit dwelling ...\n",
      "13    You don't want to hear about me. I'm not very ...\n",
      "Name: character_backstory, dtype: object\n"
     ]
    }
   ],
   "source": [
    "\n",
    "\n",
    "# Use K-Means clustering to find themes\n",
    "num_clusters = 8  # Based on the silohuette score above. \n",
    "kmeans = KMeans(n_clusters=num_clusters, random_state=42)\n",
    "kmeans.fit(X)\n",
    "\n",
    "# Add the cluster labels as the theme category\n",
    "char_df['theme_category'] = kmeans.labels_\n",
    "\n",
    "# Examine some examples from each cluster\n",
    "for cluster in range(num_clusters):\n",
    "    print(f\"\\nCluster {cluster} examples:\")\n",
    "    print(char_df[char_df['theme_category'] == cluster]['character_backstory'].head(5))"
   ]
  },
  {
   "cell_type": "code",
   "execution_count": 22,
   "metadata": {},
   "outputs": [],
   "source": [
    "# Combine 'character_name', 'character_species', and 'character_class' into a single input text feature\n",
    "char_df['input_text'] = char_df['character_name'] + ' ' + char_df['character_species'] + ' ' + char_df['character_class']\n",
    "\n",
    "# Define features (X) and target (y)\n",
    "X = char_df['input_text']\n",
    "y = char_df['theme_category']\n",
    "\n",
    "# Train-test split\n",
    "X_train, X_test, y_train, y_test = train_test_split(X, y, test_size=0.2, random_state=42)"
   ]
  },
  {
   "cell_type": "markdown",
   "metadata": {},
   "source": [
    "____\n",
    "\n",
    "## Let's do a shotgun approach and run these features/target through a bunch of models\n",
    "\n",
    "____"
   ]
  },
  {
   "cell_type": "code",
   "execution_count": 23,
   "metadata": {},
   "outputs": [
    {
     "name": "stdout",
     "output_type": "stream",
     "text": [
      "Accuracy: 0.5994020926756353\n",
      "Classification Report:\n",
      "              precision    recall  f1-score   support\n",
      "\n",
      "           0       0.00      0.00      0.00        15\n",
      "           1       0.85      0.90      0.87       108\n",
      "           2       0.70      0.93      0.80        42\n",
      "           3       0.48      0.93      0.63        14\n",
      "           4       0.24      0.09      0.13        55\n",
      "           5       0.38      0.85      0.52        13\n",
      "           6       0.59      0.75      0.66       297\n",
      "           7       0.29      0.10      0.15       125\n",
      "\n",
      "    accuracy                           0.60       669\n",
      "   macro avg       0.44      0.57      0.47       669\n",
      "weighted avg       0.53      0.60      0.55       669\n",
      "\n"
     ]
    }
   ],
   "source": [
    "# Build a pipeline with TF-IDF vectorizer and a classifier (e.g., Logistic Regression)\n",
    "model = make_pipeline(TfidfVectorizer(), LogisticRegression(max_iter=200))\n",
    "\n",
    "# Train the model\n",
    "model.fit(X_train, y_train)\n",
    "\n",
    "# Make predictions on the test set\n",
    "y_pred = model.predict(X_test)\n",
    "\n",
    "# Calculate the accuracy\n",
    "print(f\"Accuracy: {accuracy_score(y_test, y_pred)}\")\n",
    "\n",
    "# Generate a classification report\n",
    "print(f\"Classification Report:\\n{classification_report(y_test, y_pred, zero_division=0)}\")"
   ]
  },
  {
   "cell_type": "code",
   "execution_count": 24,
   "metadata": {},
   "outputs": [
    {
     "name": "stdout",
     "output_type": "stream",
     "text": [
      "Accuracy (Random Forest): 0.4678624813153961\n",
      "Classification Report (Random Forest):\n",
      "              precision    recall  f1-score   support\n",
      "\n",
      "           0       1.00      0.07      0.12        15\n",
      "           1       0.41      0.92      0.56       108\n",
      "           2       0.38      0.81      0.52        42\n",
      "           3       0.50      0.93      0.65        14\n",
      "           4       0.33      0.02      0.03        55\n",
      "           5       0.28      0.69      0.40        13\n",
      "           6       0.59      0.51      0.55       297\n",
      "           7       0.24      0.03      0.06       125\n",
      "\n",
      "    accuracy                           0.47       669\n",
      "   macro avg       0.47      0.50      0.36       669\n",
      "weighted avg       0.46      0.47      0.40       669\n",
      "\n"
     ]
    }
   ],
   "source": [
    "# Build the pipeline with RandomForest\n",
    "model_rf = make_pipeline(TfidfVectorizer(), RandomForestClassifier(n_estimators=100))\n",
    "\n",
    "# Train and evaluate the model\n",
    "model_rf.fit(X_train, y_train)\n",
    "y_pred_rf = model_rf.predict(X_test)\n",
    "\n",
    "# Evaluate the Random Forest model\n",
    "print(f\"Accuracy (Random Forest): {accuracy_score(y_test, y_pred_rf)}\")\n",
    "print(f\"Classification Report (Random Forest):\\n{classification_report(y_test, y_pred_rf)}\")"
   ]
  },
  {
   "cell_type": "code",
   "execution_count": 25,
   "metadata": {},
   "outputs": [
    {
     "name": "stdout",
     "output_type": "stream",
     "text": [
      "Accuracy (SVM): 0.5575485799701047\n",
      "Classification Report (SVM):\n",
      "              precision    recall  f1-score   support\n",
      "\n",
      "           0       0.67      0.13      0.22        15\n",
      "           1       0.75      0.95      0.84       108\n",
      "           2       0.38      0.98      0.55        42\n",
      "           3       0.50      1.00      0.67        14\n",
      "           4       0.19      0.05      0.08        55\n",
      "           5       0.35      0.85      0.50        13\n",
      "           6       0.64      0.61      0.62       297\n",
      "           7       0.30      0.15      0.20       125\n",
      "\n",
      "    accuracy                           0.56       669\n",
      "   macro avg       0.47      0.59      0.46       669\n",
      "weighted avg       0.53      0.56      0.52       669\n",
      "\n"
     ]
    }
   ],
   "source": [
    "# Build the pipeline with TF-IDF and SVM\n",
    "model_svm = make_pipeline(TfidfVectorizer(), LinearSVC(max_iter=1000))\n",
    "\n",
    "# Train and evaluate the model\n",
    "model_svm.fit(X_train, y_train)\n",
    "y_pred_svm = model_svm.predict(X_test)\n",
    "\n",
    "# Evaluate the SVM model\n",
    "print(f\"Accuracy (SVM): {accuracy_score(y_test, y_pred_svm)}\")\n",
    "print(f\"Classification Report (SVM):\\n{classification_report(y_test, y_pred_svm)}\")"
   ]
  },
  {
   "cell_type": "code",
   "execution_count": 26,
   "metadata": {},
   "outputs": [
    {
     "name": "stdout",
     "output_type": "stream",
     "text": [
      "Accuracy (Gradient Boosting): 0.5605381165919282\n",
      "Classification Report (Gradient Boosting):\n",
      "              precision    recall  f1-score   support\n",
      "\n",
      "           0       1.00      0.07      0.12        15\n",
      "           1       0.79      0.85      0.82       108\n",
      "           2       0.33      0.90      0.48        42\n",
      "           3       0.76      0.93      0.84        14\n",
      "           4       0.29      0.04      0.06        55\n",
      "           5       0.38      0.92      0.53        13\n",
      "           6       0.58      0.72      0.64       297\n",
      "           7       0.20      0.02      0.03       125\n",
      "\n",
      "    accuracy                           0.56       669\n",
      "   macro avg       0.54      0.56      0.44       669\n",
      "weighted avg       0.51      0.56      0.49       669\n",
      "\n"
     ]
    }
   ],
   "source": [
    "# Build the pipeline with TF-IDF and Gradient Boosting\n",
    "model_gb = make_pipeline(TfidfVectorizer(), GradientBoostingClassifier(n_estimators=100))\n",
    "\n",
    "# Train and evaluate the model\n",
    "model_gb.fit(X_train, y_train)\n",
    "y_pred_gb = model_gb.predict(X_test)\n",
    "\n",
    "# Evaluate the Gradient Boosting model\n",
    "print(f\"Accuracy (Gradient Boosting): {accuracy_score(y_test, y_pred_gb)}\")\n",
    "print(f\"Classification Report (Gradient Boosting):\\n{classification_report(y_test, y_pred_gb, )}\")"
   ]
  },
  {
   "cell_type": "code",
   "execution_count": 27,
   "metadata": {},
   "outputs": [
    {
     "name": "stdout",
     "output_type": "stream",
     "text": [
      "Accuracy (Naive Bayes): 0.5874439461883408\n",
      "Classification Report (Naive Bayes):\n",
      "              precision    recall  f1-score   support\n",
      "\n",
      "           0       0.00      0.00      0.00        15\n",
      "           1       0.62      0.89      0.73       108\n",
      "           2       1.00      0.07      0.13        42\n",
      "           3       0.00      0.00      0.00        14\n",
      "           4       0.00      0.00      0.00        55\n",
      "           5       0.00      0.00      0.00        13\n",
      "           6       0.57      0.98      0.73       297\n",
      "           7       0.67      0.02      0.03       125\n",
      "\n",
      "    accuracy                           0.59       669\n",
      "   macro avg       0.36      0.24      0.20       669\n",
      "weighted avg       0.54      0.59      0.45       669\n",
      "\n"
     ]
    }
   ],
   "source": [
    "# Build the pipeline with TF-IDF and Naive Bayes\n",
    "model_nb = make_pipeline(TfidfVectorizer(), MultinomialNB())\n",
    "\n",
    "# Train and evaluate the model\n",
    "model_nb.fit(X_train, y_train)\n",
    "y_pred_nb = model_nb.predict(X_test)\n",
    "\n",
    "# Evaluate the Naive Bayes model\n",
    "print(f\"Accuracy (Naive Bayes): {accuracy_score(y_test, y_pred_nb)}\")\n",
    "print(f\"Classification Report (Naive Bayes):\\n{classification_report(y_test, y_pred_nb, zero_division=0)}\")"
   ]
  },
  {
   "cell_type": "code",
   "execution_count": 28,
   "metadata": {},
   "outputs": [
    {
     "name": "stdout",
     "output_type": "stream",
     "text": [
      "Accuracy (XGBoost): 0.4828101644245142\n",
      "Classification Report (XGBoost):\n",
      "              precision    recall  f1-score   support\n",
      "\n",
      "           0       0.00      0.00      0.00        15\n",
      "           1       0.45      0.91      0.60       108\n",
      "           2       0.39      0.90      0.55        42\n",
      "           3       0.80      0.86      0.83        14\n",
      "           4       0.11      0.02      0.03        55\n",
      "           5       0.32      0.92      0.48        13\n",
      "           6       0.59      0.52      0.55       297\n",
      "           7       0.26      0.06      0.09       125\n",
      "\n",
      "    accuracy                           0.48       669\n",
      "   macro avg       0.37      0.52      0.39       669\n",
      "weighted avg       0.44      0.48      0.42       669\n",
      "\n"
     ]
    }
   ],
   "source": [
    "# Build the pipeline with TF-IDF and XGBoost\n",
    "model_xgb = make_pipeline(TfidfVectorizer(), xgb.XGBClassifier(eval_metric='mlogloss'))\n",
    "\n",
    "# Train and evaluate the model\n",
    "model_xgb.fit(X_train, y_train)\n",
    "y_pred_xgb = model_xgb.predict(X_test)\n",
    "\n",
    "# Evaluate the XGBoost model\n",
    "print(f\"Accuracy (XGBoost): {accuracy_score(y_test, y_pred_xgb)}\")\n",
    "print(f\"Classification Report (XGBoost):\\n{classification_report(y_test, y_pred_xgb)}\")"
   ]
  },
  {
   "cell_type": "code",
   "execution_count": 34,
   "metadata": {},
   "outputs": [
    {
     "name": "stdout",
     "output_type": "stream",
     "text": [
      "Accuracy (KNN): 0.4857997010463378\n",
      "Classification Report (KNN):\n",
      "              precision    recall  f1-score   support\n",
      "\n",
      "           0       0.18      0.13      0.15        15\n",
      "           1       0.43      0.93      0.59       108\n",
      "           2       0.36      0.29      0.32        42\n",
      "           3       0.12      0.07      0.09        14\n",
      "           4       0.30      0.05      0.09        55\n",
      "           5       0.00      0.00      0.00        13\n",
      "           6       0.58      0.67      0.62       297\n",
      "           7       0.27      0.06      0.10       125\n",
      "\n",
      "    accuracy                           0.49       669\n",
      "   macro avg       0.28      0.28      0.25       669\n",
      "weighted avg       0.43      0.49      0.42       669\n",
      "\n"
     ]
    }
   ],
   "source": [
    "# Build the pipeline with TF-IDF and KNN\n",
    "model_knn = make_pipeline(TfidfVectorizer(), KNeighborsClassifier(n_neighbors=8))\n",
    "\n",
    "# Train and evaluate the model\n",
    "model_knn.fit(X_train, y_train)\n",
    "y_pred_knn = model_knn.predict(X_test)\n",
    "\n",
    "# Evaluate the KNN model\n",
    "print(f\"Accuracy (KNN): {accuracy_score(y_test, y_pred_knn)}\")\n",
    "print(f\"Classification Report (KNN):\\n{classification_report(y_test, y_pred_knn)}\")"
   ]
  }
 ],
 "metadata": {
  "kernelspec": {
   "display_name": "Python 3",
   "language": "python",
   "name": "python3"
  },
  "language_info": {
   "codemirror_mode": {
    "name": "ipython",
    "version": 3
   },
   "file_extension": ".py",
   "mimetype": "text/x-python",
   "name": "python",
   "nbconvert_exporter": "python",
   "pygments_lexer": "ipython3",
   "version": "3.9.19"
  }
 },
 "nbformat": 4,
 "nbformat_minor": 2
}
